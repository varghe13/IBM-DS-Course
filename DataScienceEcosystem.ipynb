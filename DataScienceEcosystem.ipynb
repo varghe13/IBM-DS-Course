{
  "nbformat": 4,
  "nbformat_minor": 0,
  "metadata": {
    "colab": {
      "provenance": [],
      "toc_visible": true
    },
    "kernelspec": {
      "name": "python3",
      "display_name": "Python 3"
    },
    "language_info": {
      "name": "python"
    }
  },
  "cells": [
    {
      "cell_type": "markdown",
      "source": [
        "# Data Science Tools and Ecosystem"
      ],
      "metadata": {
        "id": "J-pbiZ4tt-1y"
      }
    },
    {
      "cell_type": "markdown",
      "source": [
        "In this notebook, Data Science Tools and Ecosystem are summarized."
      ],
      "metadata": {
        "id": "aRuTeEgLuRV0"
      }
    },
    {
      "cell_type": "markdown",
      "source": [
        "Objectives:\n",
        "\n",
        "\n",
        "*   List popular languages for Data Science\n",
        "*   Create a code cell to convert minutes to hours\n",
        "*   Create a code cell to multiply and add numbers\n",
        "*   Create a markdown cell with a table of Data Science tools\n",
        "*   Create a markdown cell to list data science libraries\n",
        "\n"
      ],
      "metadata": {
        "id": "2DrqG16Kyo2O"
      }
    },
    {
      "cell_type": "markdown",
      "source": [
        "Some of the popular languages that Data Scientists use are:\n",
        "\n",
        "\n",
        "1.   Python\n",
        "2.   Java\n",
        "3.   C++\n",
        "\n"
      ],
      "metadata": {
        "id": "vBDlSxeGugy8"
      }
    },
    {
      "cell_type": "markdown",
      "source": [
        "Some of the commonly used libraries used by Data Scientists include:\n",
        "\n",
        "\n",
        "1.   matplotlib\n",
        "2.   pandas\n",
        "3.   numpy\n",
        "4.   sci-kitlearn\n",
        "\n"
      ],
      "metadata": {
        "id": "LdFWTl-Quxn8"
      }
    },
    {
      "cell_type": "markdown",
      "source": [
        "|Data Science Tools|\n",
        "|------------------|\n",
        "|Julia|\n",
        "|IBM SPSS|\n",
        "|Keras|\n",
        "|TensorFlow|"
      ],
      "metadata": {
        "id": "AwiMra1Uwx2l"
      }
    },
    {
      "cell_type": "markdown",
      "source": [
        "###Below are a few examples of evaluating arithmetic expressions in Python."
      ],
      "metadata": {
        "id": "0oTmlboJxLjG"
      }
    },
    {
      "cell_type": "code",
      "execution_count": null,
      "metadata": {
        "colab": {
          "base_uri": "https://localhost:8080/"
        },
        "id": "dn07hPkptfwT",
        "outputId": "0016cf25-c97f-49ed-a160-20211c94608e"
      },
      "outputs": [
        {
          "output_type": "execute_result",
          "data": {
            "text/plain": [
              "17"
            ]
          },
          "metadata": {},
          "execution_count": 1
        }
      ],
      "source": [
        "# This a simple arithmetic expression to mutiply then add integers\n",
        "(3*4)+5"
      ]
    },
    {
      "cell_type": "code",
      "source": [
        "# This will convert 200 minutes to hours by diving by 60\n",
        "200/60"
      ],
      "metadata": {
        "colab": {
          "base_uri": "https://localhost:8080/"
        },
        "id": "-Z8cGwRjxklY",
        "outputId": "c45d9c44-08b0-49cc-f29d-09a1285becf9"
      },
      "execution_count": null,
      "outputs": [
        {
          "output_type": "execute_result",
          "data": {
            "text/plain": [
              "3.3333333333333335"
            ]
          },
          "metadata": {},
          "execution_count": 2
        }
      ]
    },
    {
      "cell_type": "markdown",
      "source": [
        "## Author\n",
        "Aaron Varghese"
      ],
      "metadata": {
        "id": "kpckyMrq5r_D"
      }
    },
    {
      "cell_type": "code",
      "source": [],
      "metadata": {
        "id": "AF1J07Pbx2ng"
      },
      "execution_count": null,
      "outputs": []
    }
  ]
}